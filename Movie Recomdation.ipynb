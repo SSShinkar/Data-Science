{
 "cells": [
  {
   "cell_type": "markdown",
   "id": "8b637e6a",
   "metadata": {},
   "source": [
    "# Develop a movie recommendation model using the scikit-learn library in python. Refer dataset\n",
    "https://github.com/rashida048/Some-NLP-Projects/blob/master/movie_dataset.csv"
   ]
  },
  {
   "cell_type": "code",
   "execution_count": 47,
   "id": "26345f03",
   "metadata": {},
   "outputs": [],
   "source": [
    "import numpy as np\n",
    "import pandas as pd"
   ]
  },
  {
   "cell_type": "code",
   "execution_count": 48,
   "id": "56606604",
   "metadata": {},
   "outputs": [],
   "source": [
    "data=pd.read_csv(\"BollywoodMovieDetail.csv\")"
   ]
  },
  {
   "cell_type": "code",
   "execution_count": 49,
   "id": "814af4e5",
   "metadata": {},
   "outputs": [
    {
     "data": {
      "text/html": [
       "<div>\n",
       "<style scoped>\n",
       "    .dataframe tbody tr th:only-of-type {\n",
       "        vertical-align: middle;\n",
       "    }\n",
       "\n",
       "    .dataframe tbody tr th {\n",
       "        vertical-align: top;\n",
       "    }\n",
       "\n",
       "    .dataframe thead th {\n",
       "        text-align: right;\n",
       "    }\n",
       "</style>\n",
       "<table border=\"1\" class=\"dataframe\">\n",
       "  <thead>\n",
       "    <tr style=\"text-align: right;\">\n",
       "      <th></th>\n",
       "      <th>imdbId</th>\n",
       "      <th>title</th>\n",
       "      <th>releaseYear</th>\n",
       "      <th>releaseDate</th>\n",
       "      <th>genre</th>\n",
       "      <th>writers</th>\n",
       "      <th>actors</th>\n",
       "      <th>directors</th>\n",
       "      <th>sequel</th>\n",
       "      <th>hitFlop</th>\n",
       "    </tr>\n",
       "  </thead>\n",
       "  <tbody>\n",
       "    <tr>\n",
       "      <th>0</th>\n",
       "      <td>tt0118578</td>\n",
       "      <td>Albela</td>\n",
       "      <td>2001</td>\n",
       "      <td>20 Apr 2001</td>\n",
       "      <td>Romance</td>\n",
       "      <td>Honey Irani (screenplay) | Honey Irani (story)...</td>\n",
       "      <td>Govinda | Aishwarya Rai Bachchan | Jackie Shro...</td>\n",
       "      <td>Deepak Sareen</td>\n",
       "      <td>0.0</td>\n",
       "      <td>2</td>\n",
       "    </tr>\n",
       "    <tr>\n",
       "      <th>1</th>\n",
       "      <td>tt0169102</td>\n",
       "      <td>Lagaan: Once Upon a Time in India</td>\n",
       "      <td>2001</td>\n",
       "      <td>08 May 2002</td>\n",
       "      <td>Adventure | Drama | Musical</td>\n",
       "      <td>Ashutosh Gowariker (story) | Ashutosh Gowarike...</td>\n",
       "      <td>Aamir Khan | Gracy Singh | Rachel Shelley | Pa...</td>\n",
       "      <td>Ashutosh Gowariker</td>\n",
       "      <td>0.0</td>\n",
       "      <td>6</td>\n",
       "    </tr>\n",
       "    <tr>\n",
       "      <th>2</th>\n",
       "      <td>tt0187279</td>\n",
       "      <td>Meri Biwi Ka Jawab Nahin</td>\n",
       "      <td>2004</td>\n",
       "      <td>02 Jul 2004</td>\n",
       "      <td>Action | Comedy</td>\n",
       "      <td>NaN</td>\n",
       "      <td>Akshay Kumar | Sridevi | Gulshan Grover | Laxm...</td>\n",
       "      <td>Pankaj Parashar | S.M. Iqbal</td>\n",
       "      <td>0.0</td>\n",
       "      <td>1</td>\n",
       "    </tr>\n",
       "    <tr>\n",
       "      <th>3</th>\n",
       "      <td>tt0222024</td>\n",
       "      <td>Hum Tumhare Hain Sanam</td>\n",
       "      <td>2002</td>\n",
       "      <td>24 May 2002</td>\n",
       "      <td>Drama | Romance</td>\n",
       "      <td>K.S. Adiyaman | Arun Kumar (assistant dialogue...</td>\n",
       "      <td>Shah Rukh Khan | Madhuri Dixit | Salman Khan |...</td>\n",
       "      <td>K.S. Adiyaman</td>\n",
       "      <td>0.0</td>\n",
       "      <td>4</td>\n",
       "    </tr>\n",
       "    <tr>\n",
       "      <th>4</th>\n",
       "      <td>tt0227194</td>\n",
       "      <td>One 2 Ka 4</td>\n",
       "      <td>2001</td>\n",
       "      <td>30 Mar 2001</td>\n",
       "      <td>Action | Comedy | Drama</td>\n",
       "      <td>Sanjay Chhel | Raaj Kumar Dahima (screenplay) ...</td>\n",
       "      <td>Shah Rukh Khan | Juhi Chawla | Jackie Shroff |...</td>\n",
       "      <td>Shashilal K. Nair</td>\n",
       "      <td>0.0</td>\n",
       "      <td>1</td>\n",
       "    </tr>\n",
       "    <tr>\n",
       "      <th>...</th>\n",
       "      <td>...</td>\n",
       "      <td>...</td>\n",
       "      <td>...</td>\n",
       "      <td>...</td>\n",
       "      <td>...</td>\n",
       "      <td>...</td>\n",
       "      <td>...</td>\n",
       "      <td>...</td>\n",
       "      <td>...</td>\n",
       "      <td>...</td>\n",
       "    </tr>\n",
       "    <tr>\n",
       "      <th>1279</th>\n",
       "      <td>tt4121522</td>\n",
       "      <td>Shuruaat Ka Interval</td>\n",
       "      <td>2014</td>\n",
       "      <td>15 Aug 2014</td>\n",
       "      <td>NaN</td>\n",
       "      <td>Aarti S. Bagdi | Amrit Raj Gupta | Krishan Hoo...</td>\n",
       "      <td>Kaivalya Chheda | Rajsekhar Aningi | Avidant B...</td>\n",
       "      <td>Aarti S. Bagdi | Amrit Raj Gupta | Krishan Hoo...</td>\n",
       "      <td>0.0</td>\n",
       "      <td>1</td>\n",
       "    </tr>\n",
       "    <tr>\n",
       "      <th>1280</th>\n",
       "      <td>tt4187650</td>\n",
       "      <td>Trip to Bhangarh</td>\n",
       "      <td>2014</td>\n",
       "      <td>28 Aug 2014</td>\n",
       "      <td>Horror</td>\n",
       "      <td>NaN</td>\n",
       "      <td>Manish Choudhary | Suzanna Mukherjee | Poonam ...</td>\n",
       "      <td>Jitendra Pawar</td>\n",
       "      <td>0.0</td>\n",
       "      <td>1</td>\n",
       "    </tr>\n",
       "    <tr>\n",
       "      <th>1281</th>\n",
       "      <td>tt4190220</td>\n",
       "      <td>Zed Plus</td>\n",
       "      <td>2014</td>\n",
       "      <td>28 Nov 2014</td>\n",
       "      <td>NaN</td>\n",
       "      <td>Chandra Prakash Dwivedi (screen play and dialo...</td>\n",
       "      <td>Adil Hussain | Ekavali Khanna | Kulbhushan Kha...</td>\n",
       "      <td>Chandra Prakash Dwivedi</td>\n",
       "      <td>0.0</td>\n",
       "      <td>1</td>\n",
       "    </tr>\n",
       "    <tr>\n",
       "      <th>1282</th>\n",
       "      <td>tt4219300</td>\n",
       "      <td>Gollu aur Pappu</td>\n",
       "      <td>2014</td>\n",
       "      <td>21 Nov 2014</td>\n",
       "      <td>Comedy</td>\n",
       "      <td>NaN</td>\n",
       "      <td>Vir Das | Sandeepa Dhar | Rahul Handa | Dimple...</td>\n",
       "      <td>Kabir Sadanand</td>\n",
       "      <td>0.0</td>\n",
       "      <td>1</td>\n",
       "    </tr>\n",
       "    <tr>\n",
       "      <th>1283</th>\n",
       "      <td>tt4228746</td>\n",
       "      <td>Zid</td>\n",
       "      <td>2014</td>\n",
       "      <td>28 Nov 2014</td>\n",
       "      <td>Thriller</td>\n",
       "      <td>Vivek Agnihotri | Rohit Malhotra</td>\n",
       "      <td>Shradha Das | Mohan Kapoor | Mannara | Karanvi...</td>\n",
       "      <td>Rohit Malhotra | Anubhav Sinha</td>\n",
       "      <td>0.0</td>\n",
       "      <td>2</td>\n",
       "    </tr>\n",
       "  </tbody>\n",
       "</table>\n",
       "<p>1284 rows × 10 columns</p>\n",
       "</div>"
      ],
      "text/plain": [
       "         imdbId                              title  releaseYear  releaseDate  \\\n",
       "0     tt0118578                             Albela         2001  20 Apr 2001   \n",
       "1     tt0169102  Lagaan: Once Upon a Time in India         2001  08 May 2002   \n",
       "2     tt0187279           Meri Biwi Ka Jawab Nahin         2004  02 Jul 2004   \n",
       "3     tt0222024             Hum Tumhare Hain Sanam         2002  24 May 2002   \n",
       "4     tt0227194                         One 2 Ka 4         2001  30 Mar 2001   \n",
       "...         ...                                ...          ...          ...   \n",
       "1279  tt4121522               Shuruaat Ka Interval         2014  15 Aug 2014   \n",
       "1280  tt4187650                   Trip to Bhangarh         2014  28 Aug 2014   \n",
       "1281  tt4190220                           Zed Plus         2014  28 Nov 2014   \n",
       "1282  tt4219300                    Gollu aur Pappu         2014  21 Nov 2014   \n",
       "1283  tt4228746                                Zid         2014  28 Nov 2014   \n",
       "\n",
       "                            genre  \\\n",
       "0                         Romance   \n",
       "1     Adventure | Drama | Musical   \n",
       "2                 Action | Comedy   \n",
       "3                 Drama | Romance   \n",
       "4         Action | Comedy | Drama   \n",
       "...                           ...   \n",
       "1279                          NaN   \n",
       "1280                       Horror   \n",
       "1281                          NaN   \n",
       "1282                       Comedy   \n",
       "1283                     Thriller   \n",
       "\n",
       "                                                writers  \\\n",
       "0     Honey Irani (screenplay) | Honey Irani (story)...   \n",
       "1     Ashutosh Gowariker (story) | Ashutosh Gowarike...   \n",
       "2                                                   NaN   \n",
       "3     K.S. Adiyaman | Arun Kumar (assistant dialogue...   \n",
       "4     Sanjay Chhel | Raaj Kumar Dahima (screenplay) ...   \n",
       "...                                                 ...   \n",
       "1279  Aarti S. Bagdi | Amrit Raj Gupta | Krishan Hoo...   \n",
       "1280                                                NaN   \n",
       "1281  Chandra Prakash Dwivedi (screen play and dialo...   \n",
       "1282                                                NaN   \n",
       "1283                   Vivek Agnihotri | Rohit Malhotra   \n",
       "\n",
       "                                                 actors  \\\n",
       "0     Govinda | Aishwarya Rai Bachchan | Jackie Shro...   \n",
       "1     Aamir Khan | Gracy Singh | Rachel Shelley | Pa...   \n",
       "2     Akshay Kumar | Sridevi | Gulshan Grover | Laxm...   \n",
       "3     Shah Rukh Khan | Madhuri Dixit | Salman Khan |...   \n",
       "4     Shah Rukh Khan | Juhi Chawla | Jackie Shroff |...   \n",
       "...                                                 ...   \n",
       "1279  Kaivalya Chheda | Rajsekhar Aningi | Avidant B...   \n",
       "1280  Manish Choudhary | Suzanna Mukherjee | Poonam ...   \n",
       "1281  Adil Hussain | Ekavali Khanna | Kulbhushan Kha...   \n",
       "1282  Vir Das | Sandeepa Dhar | Rahul Handa | Dimple...   \n",
       "1283  Shradha Das | Mohan Kapoor | Mannara | Karanvi...   \n",
       "\n",
       "                                              directors  sequel  hitFlop  \n",
       "0                                         Deepak Sareen     0.0        2  \n",
       "1                                    Ashutosh Gowariker     0.0        6  \n",
       "2                          Pankaj Parashar | S.M. Iqbal     0.0        1  \n",
       "3                                         K.S. Adiyaman     0.0        4  \n",
       "4                                     Shashilal K. Nair     0.0        1  \n",
       "...                                                 ...     ...      ...  \n",
       "1279  Aarti S. Bagdi | Amrit Raj Gupta | Krishan Hoo...     0.0        1  \n",
       "1280                                     Jitendra Pawar     0.0        1  \n",
       "1281                            Chandra Prakash Dwivedi     0.0        1  \n",
       "1282                                     Kabir Sadanand     0.0        1  \n",
       "1283                     Rohit Malhotra | Anubhav Sinha     0.0        2  \n",
       "\n",
       "[1284 rows x 10 columns]"
      ]
     },
     "execution_count": 49,
     "metadata": {},
     "output_type": "execute_result"
    }
   ],
   "source": [
    "data"
   ]
  },
  {
   "cell_type": "code",
   "execution_count": 50,
   "id": "bd5cdf03",
   "metadata": {},
   "outputs": [
    {
     "name": "stdout",
     "output_type": "stream",
     "text": [
      "<class 'pandas.core.frame.DataFrame'>\n",
      "RangeIndex: 1284 entries, 0 to 1283\n",
      "Data columns (total 10 columns):\n",
      " #   Column       Non-Null Count  Dtype  \n",
      "---  ------       --------------  -----  \n",
      " 0   imdbId       1284 non-null   object \n",
      " 1   title        1284 non-null   object \n",
      " 2   releaseYear  1284 non-null   int64  \n",
      " 3   releaseDate  1231 non-null   object \n",
      " 4   genre        1282 non-null   object \n",
      " 5   writers      1165 non-null   object \n",
      " 6   actors       1281 non-null   object \n",
      " 7   directors    1280 non-null   object \n",
      " 8   sequel       1281 non-null   float64\n",
      " 9   hitFlop      1284 non-null   int64  \n",
      "dtypes: float64(1), int64(2), object(7)\n",
      "memory usage: 100.4+ KB\n"
     ]
    }
   ],
   "source": [
    "data.info()"
   ]
  },
  {
   "cell_type": "code",
   "execution_count": 51,
   "id": "0bf88a65",
   "metadata": {},
   "outputs": [
    {
     "data": {
      "text/plain": [
       "(1284, 10)"
      ]
     },
     "execution_count": 51,
     "metadata": {},
     "output_type": "execute_result"
    }
   ],
   "source": [
    "data.shape"
   ]
  },
  {
   "cell_type": "code",
   "execution_count": 52,
   "id": "ed17ba3d",
   "metadata": {},
   "outputs": [
    {
     "data": {
      "text/html": [
       "<div>\n",
       "<style scoped>\n",
       "    .dataframe tbody tr th:only-of-type {\n",
       "        vertical-align: middle;\n",
       "    }\n",
       "\n",
       "    .dataframe tbody tr th {\n",
       "        vertical-align: top;\n",
       "    }\n",
       "\n",
       "    .dataframe thead th {\n",
       "        text-align: right;\n",
       "    }\n",
       "</style>\n",
       "<table border=\"1\" class=\"dataframe\">\n",
       "  <thead>\n",
       "    <tr style=\"text-align: right;\">\n",
       "      <th></th>\n",
       "      <th>releaseYear</th>\n",
       "      <th>sequel</th>\n",
       "      <th>hitFlop</th>\n",
       "    </tr>\n",
       "  </thead>\n",
       "  <tbody>\n",
       "    <tr>\n",
       "      <th>count</th>\n",
       "      <td>1284.000000</td>\n",
       "      <td>1281.000000</td>\n",
       "      <td>1284.000000</td>\n",
       "    </tr>\n",
       "    <tr>\n",
       "      <th>mean</th>\n",
       "      <td>2007.989097</td>\n",
       "      <td>0.035129</td>\n",
       "      <td>2.144081</td>\n",
       "    </tr>\n",
       "    <tr>\n",
       "      <th>std</th>\n",
       "      <td>4.005243</td>\n",
       "      <td>0.188371</td>\n",
       "      <td>1.812820</td>\n",
       "    </tr>\n",
       "    <tr>\n",
       "      <th>min</th>\n",
       "      <td>2001.000000</td>\n",
       "      <td>0.000000</td>\n",
       "      <td>1.000000</td>\n",
       "    </tr>\n",
       "    <tr>\n",
       "      <th>25%</th>\n",
       "      <td>2004.000000</td>\n",
       "      <td>0.000000</td>\n",
       "      <td>1.000000</td>\n",
       "    </tr>\n",
       "    <tr>\n",
       "      <th>50%</th>\n",
       "      <td>2008.000000</td>\n",
       "      <td>0.000000</td>\n",
       "      <td>1.000000</td>\n",
       "    </tr>\n",
       "    <tr>\n",
       "      <th>75%</th>\n",
       "      <td>2011.000000</td>\n",
       "      <td>0.000000</td>\n",
       "      <td>2.000000</td>\n",
       "    </tr>\n",
       "    <tr>\n",
       "      <th>max</th>\n",
       "      <td>2014.000000</td>\n",
       "      <td>2.000000</td>\n",
       "      <td>9.000000</td>\n",
       "    </tr>\n",
       "  </tbody>\n",
       "</table>\n",
       "</div>"
      ],
      "text/plain": [
       "       releaseYear       sequel      hitFlop\n",
       "count  1284.000000  1281.000000  1284.000000\n",
       "mean   2007.989097     0.035129     2.144081\n",
       "std       4.005243     0.188371     1.812820\n",
       "min    2001.000000     0.000000     1.000000\n",
       "25%    2004.000000     0.000000     1.000000\n",
       "50%    2008.000000     0.000000     1.000000\n",
       "75%    2011.000000     0.000000     2.000000\n",
       "max    2014.000000     2.000000     9.000000"
      ]
     },
     "execution_count": 52,
     "metadata": {},
     "output_type": "execute_result"
    }
   ],
   "source": [
    "data.describe()"
   ]
  },
  {
   "cell_type": "code",
   "execution_count": 53,
   "id": "05e6c90e",
   "metadata": {},
   "outputs": [
    {
     "data": {
      "text/plain": [
       "imdbId           0\n",
       "title            0\n",
       "releaseYear      0\n",
       "releaseDate     53\n",
       "genre            2\n",
       "writers        119\n",
       "actors           3\n",
       "directors        4\n",
       "sequel           3\n",
       "hitFlop          0\n",
       "dtype: int64"
      ]
     },
     "execution_count": 53,
     "metadata": {},
     "output_type": "execute_result"
    }
   ],
   "source": [
    "data.isnull().sum()"
   ]
  },
  {
   "cell_type": "code",
   "execution_count": 54,
   "id": "8640dff0",
   "metadata": {},
   "outputs": [
    {
     "data": {
      "text/plain": [
       "Index(['imdbId', 'title', 'releaseYear', 'releaseDate', 'genre', 'writers',\n",
       "       'actors', 'directors', 'sequel', 'hitFlop'],\n",
       "      dtype='object')"
      ]
     },
     "execution_count": 54,
     "metadata": {},
     "output_type": "execute_result"
    }
   ],
   "source": [
    "data.columns"
   ]
  },
  {
   "cell_type": "markdown",
   "id": "847dc88c",
   "metadata": {},
   "source": [
    "# feature Engineering"
   ]
  },
  {
   "cell_type": "code",
   "execution_count": 55,
   "id": "26add3c5",
   "metadata": {},
   "outputs": [
    {
     "data": {
      "text/plain": [
       "(1284, 3509)"
      ]
     },
     "execution_count": 55,
     "metadata": {},
     "output_type": "execute_result"
    }
   ],
   "source": [
    "# Cell 1: Feature Engineering\n",
    "\n",
    "from sklearn.feature_extraction.text import TfidfVectorizer\n",
    "from sklearn.metrics.pairwise import linear_kernel\n",
    "\n",
    "# Fill missing values with empty strings\n",
    "data['genre'] = data['genre'].fillna('')\n",
    "data['writers'] = data['writers'].fillna('')\n",
    "data['actors'] = data['actors'].fillna('')\n",
    "data['directors'] = data['directors'].fillna('')\n",
    "\n",
    "# Combine relevant features into a single string\n",
    "combined_features = data['genre'].str.lower() + ' ' + \\\n",
    "                    data['writers'].str.lower() + ' ' + \\\n",
    "                    data['actors'].str.lower() + ' ' + \\\n",
    "                    data['directors'].str.lower()\n",
    "\n",
    "# Initialize the TF-IDF Vectorizer\n",
    "tfidf = TfidfVectorizer(stop_words='english')\n",
    "\n",
    "# Fit and transform the combined features\n",
    "tfidf_matrix = tfidf.fit_transform(combined_features)\n",
    "\n",
    "# Get the shape of the TF-IDF matrix\n",
    "tfidf_matrix.shape\n"
   ]
  },
  {
   "cell_type": "markdown",
   "id": "31ef928f",
   "metadata": {},
   "source": [
    "# Similarity Calculation"
   ]
  },
  {
   "cell_type": "code",
   "execution_count": 56,
   "id": "ddc32013",
   "metadata": {},
   "outputs": [],
   "source": [
    "# Calculate the cosine similarity matrix\n",
    "cosine_sim = linear_kernel(tfidf_matrix, tfidf_matrix)\n"
   ]
  },
  {
   "cell_type": "markdown",
   "id": "270ce989",
   "metadata": {},
   "source": [
    "# Recommendation"
   ]
  },
  {
   "cell_type": "code",
   "execution_count": 57,
   "id": "77650586",
   "metadata": {},
   "outputs": [],
   "source": [
    "def recommend_movies(movie_title, data=data, cosine_sim=cosine_sim):\n",
    "    idx = data[data['title'] == movie_title].index[0]\n",
    "    sim_scores = list(enumerate(cosine_sim[idx]))\n",
    "    sim_scores = sorted(sim_scores, key=lambda x: x[1], reverse=True)\n",
    "    sim_scores = sim_scores[1:11]  # Top 10 similar movies\n",
    "    movie_indices = [i[0] for i in sim_scores]\n",
    "    return data['title'].iloc[movie_indices]\n",
    "recommended_movies = recommend_movies('Hum Tumhare Hain Sanam')\n"
   ]
  },
  {
   "cell_type": "code",
   "execution_count": 58,
   "id": "d11a4f20",
   "metadata": {},
   "outputs": [
    {
     "data": {
      "text/plain": [
       "302     Shaadi Karke Phas Gaya Yaar\n",
       "532                     Aaja Nachle\n",
       "1089           Life Ki Toh Lag Gayi\n",
       "54                Moksha: Salvation\n",
       "5                            Devdas\n",
       "222             Yeh Lamhe Judaai Ke\n",
       "571                           Hello\n",
       "814                   Prem Kaa Game\n",
       "622                            Veer\n",
       "885                         Talaash\n",
       "Name: title, dtype: object"
      ]
     },
     "execution_count": 58,
     "metadata": {},
     "output_type": "execute_result"
    }
   ],
   "source": [
    "recommended_movies"
   ]
  },
  {
   "cell_type": "code",
   "execution_count": null,
   "id": "3dd1826d",
   "metadata": {},
   "outputs": [],
   "source": []
  }
 ],
 "metadata": {
  "kernelspec": {
   "display_name": "Python 3 (ipykernel)",
   "language": "python",
   "name": "python3"
  },
  "language_info": {
   "codemirror_mode": {
    "name": "ipython",
    "version": 3
   },
   "file_extension": ".py",
   "mimetype": "text/x-python",
   "name": "python",
   "nbconvert_exporter": "python",
   "pygments_lexer": "ipython3",
   "version": "3.11.5"
  }
 },
 "nbformat": 4,
 "nbformat_minor": 5
}
